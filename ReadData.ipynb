{
 "cells": [
  {
   "cell_type": "code",
   "execution_count": 1,
   "id": "b1c7e282",
   "metadata": {},
   "outputs": [],
   "source": [
    "import json\n",
    "  \n",
    "dataset = 'MNIST'\n",
    "# Opening JSON file\n",
    "f = open('./Data/mnist.json')\n",
    "  \n",
    "# returns JSON object as \n",
    "# a dictionary\n",
    "data = json.load(f)"
   ]
  },
  {
   "cell_type": "code",
   "execution_count": 2,
   "id": "0caf41ea",
   "metadata": {},
   "outputs": [
    {
     "name": "stdout",
     "output_type": "stream",
     "text": [
      "1736\n"
     ]
    }
   ],
   "source": [
    "total_samples = len(data)\n",
    "print(total_samples)"
   ]
  },
  {
   "cell_type": "code",
   "execution_count": 3,
   "id": "a1f6fc05",
   "metadata": {},
   "outputs": [],
   "source": [
    "\n",
    "### select a sample in the range [0, total_samples-1] \n",
    "sample = 101"
   ]
  },
  {
   "cell_type": "code",
   "execution_count": 4,
   "id": "506fe7da",
   "metadata": {},
   "outputs": [
    {
     "data": {
      "image/png": "[encoded data removed]",
      "text/plain": [
       "<Figure size 432x288 with 1 Axes>"
      ]
     },
     "metadata": {
      "needs_background": "light"
     },
     "output_type": "display_data"
    }
   ],
   "source": [
    "stimuli = data[sample]['Stimuli']\n",
    "\n",
    "path_to_stimuli = './Stimuli/'+dataset\n",
    "\n",
    "\n",
    "import matplotlib.pyplot as plt\n",
    "import matplotlib.image as mpimg\n",
    "img = mpimg.imread(path_to_stimuli+'/'+stimuli+'.jpeg')\n",
    "imgplot = plt.imshow(img)\n",
    "plt.show()\n",
    "\n"
   ]
  },
  {
   "cell_type": "code",
   "execution_count": 5,
   "id": "42a511b8",
   "metadata": {},
   "outputs": [
    {
     "data": {
      "text/plain": [
       "{'Stimuli': '02_47196',\n",
       " 'Label': '3',\n",
       " 'Data': {'Glimpse_1': {'x-coordinate': '12',\n",
       "   'y-coordinate': '14',\n",
       "   'Duration (seconds)': '',\n",
       "   'Class': '8'},\n",
       "  'Glimpse_2': {'x-coordinate': '20',\n",
       "   'y-coordinate': '9',\n",
       "   'Duration (seconds)': '11.4479999999999',\n",
       "   'Class': '8'},\n",
       "  'Glimpse_3': {'x-coordinate': '21',\n",
       "   'y-coordinate': '17',\n",
       "   'Duration (seconds)': '3.808',\n",
       "   'Class': '8'},\n",
       "  'Glimpse_4': {'x-coordinate': '15',\n",
       "   'y-coordinate': '4',\n",
       "   'Duration (seconds)': '5.628',\n",
       "   'Class': '3'},\n",
       "  'Glimpse_5': {'x-coordinate': '7',\n",
       "   'y-coordinate': '20',\n",
       "   'Duration (seconds)': '3.999',\n",
       "   'Class': '3'},\n",
       "  'Glimpse_6': {'x-coordinate': '3',\n",
       "   'y-coordinate': '13',\n",
       "   'Duration (seconds)': '3.63999999999999',\n",
       "   'Class': '3'},\n",
       "  'Glimpse_7': {'x-coordinate': '6',\n",
       "   'y-coordinate': '8',\n",
       "   'Duration (seconds)': '3.314',\n",
       "   'Class': '3'},\n",
       "  'Glimpse_8': {'x-coordinate': '17',\n",
       "   'y-coordinate': '19',\n",
       "   'Duration (seconds)': '3.31899999999999',\n",
       "   'Class': '3'},\n",
       "  'Glimpse_9': {'x-coordinate': '12',\n",
       "   'y-coordinate': '18',\n",
       "   'Duration (seconds)': '3.565',\n",
       "   'Class': '3'},\n",
       "  'Glimpse_10': {'x-coordinate': '4',\n",
       "   'y-coordinate': '17',\n",
       "   'Duration (seconds)': '4.68699999999999',\n",
       "   'Class': '3'},\n",
       "  'Glimpse_11': {'x-coordinate': '23',\n",
       "   'y-coordinate': '14',\n",
       "   'Duration (seconds)': '3.88499999999999',\n",
       "   'Class': '3'},\n",
       "  'Glimpse_12': {'x-coordinate': '8',\n",
       "   'y-coordinate': '16',\n",
       "   'Duration (seconds)': '4.071',\n",
       "   'Class': '3'}}}"
      ]
     },
     "execution_count": 5,
     "metadata": {},
     "output_type": "execute_result"
    }
   ],
   "source": [
    "data[sample]"
   ]
  },
  {
   "cell_type": "code",
   "execution_count": 6,
   "id": "557005e4",
   "metadata": {},
   "outputs": [
    {
     "name": "stdout",
     "output_type": "stream",
     "text": [
      "Co_ordinates of the 12 samplings for stimuli 02_47196:\n",
      " [('12', '14'), ('20', '9'), ('21', '17'), ('15', '4'), ('7', '20'), ('3', '13'), ('6', '8'), ('17', '19'), ('12', '18'), ('4', '17'), ('23', '14'), ('8', '16')] \n",
      "\n",
      "Duration between consecutive samplings:\n",
      " ['11.4479999999999', '3.808', '5.628', '3.999', '3.63999999999999', '3.314', '3.31899999999999', '3.565', '4.68699999999999', '3.88499999999999', '4.071'] \n",
      "\n",
      "Predicted class for the 12 samplings:\n",
      " ['8', '8', '8', '3', '3', '3', '3', '3', '3', '3', '3', '3'] \n",
      "\n",
      "True label:  3\n"
     ]
    }
   ],
   "source": [
    "### coordinates of the samplings (x, y) over 12 samplings\n",
    "\n",
    "x_axis = [data[sample]['Data']['Glimpse_'+str(i+1)]['x-coordinate'] for i in range(12)]\n",
    "\n",
    "y_axis = [data[sample]['Data']['Glimpse_'+str(i+1)]['y-coordinate'] for i in range(12)]\n",
    "\n",
    "print('Co_ordinates of the 12 samplings for stimuli '+ stimuli + ':\\n', [(x, y) for x,y in zip(x_axis, y_axis)], '\\n')\n",
    "\n",
    "### duration \n",
    "t = [data[sample]['Data']['Glimpse_'+str(i+1)]['Duration (seconds)'] for i in range(12)]\n",
    "print('Duration between consecutive samplings:\\n', t[1::], '\\n')\n",
    "\n",
    "### predicted class\n",
    "y = [data[sample]['Data']['Glimpse_'+str(i+1)]['Class'] for i in range(12)]\n",
    "print('Predicted class for the 12 samplings:\\n', y, '\\n')\n",
    "\n",
    "### true label\n",
    "print('True label: ', data[sample]['Label'])"
   ]
  },
  {
   "cell_type": "markdown",
   "id": "db2079fc",
   "metadata": {},
   "source": [
    "### EMNIST Uppercase"
   ]
  },
  {
   "cell_type": "code",
   "execution_count": 7,
   "id": "29b313a4",
   "metadata": {},
   "outputs": [],
   "source": [
    "dataset = 'EMNIST_UPPERCASE'\n",
    "# Opening JSON file\n",
    "f = open('./Data/emnist_uppercase.json')\n",
    "  \n",
    "# returns JSON object as \n",
    "# a dictionary\n",
    "data = json.load(f)"
   ]
  },
  {
   "cell_type": "code",
   "execution_count": 8,
   "id": "59734a33",
   "metadata": {},
   "outputs": [
    {
     "name": "stdout",
     "output_type": "stream",
     "text": [
      "4431\n"
     ]
    }
   ],
   "source": [
    "total_samples = len(data)\n",
    "print(total_samples)"
   ]
  },
  {
   "cell_type": "code",
   "execution_count": 9,
   "id": "1723f734",
   "metadata": {},
   "outputs": [],
   "source": [
    "\n",
    "### select a sample in the range [0, total_samples-1] \n",
    "sample = 400"
   ]
  },
  {
   "cell_type": "code",
   "execution_count": 10,
   "id": "e760bdaf",
   "metadata": {},
   "outputs": [
    {
     "data": {
      "image/png": "[encoded data removed]",
      "text/plain": [
       "<Figure size 432x288 with 1 Axes>"
      ]
     },
     "metadata": {
      "needs_background": "light"
     },
     "output_type": "display_data"
    }
   ],
   "source": [
    "stimuli = data[sample]['Stimuli']\n",
    "\n",
    "path_to_stimuli = './Stimuli/'+dataset\n",
    "\n",
    "\n",
    "import matplotlib.pyplot as plt\n",
    "import matplotlib.image as mpimg\n",
    "img = mpimg.imread(path_to_stimuli+'/'+stimuli+'.jpeg')\n",
    "imgplot = plt.imshow(img)\n",
    "plt.show()\n",
    "\n"
   ]
  },
  {
   "cell_type": "code",
   "execution_count": 11,
   "id": "d375bece",
   "metadata": {},
   "outputs": [
    {
     "data": {
      "text/plain": [
       "{'Stimuli': '03_51250',\n",
       " 'Label': 'D',\n",
       " 'Data': {'Glimpse_1': {'x-coordinate': '12',\n",
       "   'y-coordinate': '14',\n",
       "   'Duration (seconds)': '',\n",
       "   'Class': 'L'},\n",
       "  'Glimpse_2': {'x-coordinate': '17',\n",
       "   'y-coordinate': '12',\n",
       "   'Duration (seconds)': '27.281',\n",
       "   'Class': 'F'},\n",
       "  'Glimpse_3': {'x-coordinate': '10',\n",
       "   'y-coordinate': '13',\n",
       "   'Duration (seconds)': '9.445',\n",
       "   'Class': 'F'},\n",
       "  'Glimpse_4': {'x-coordinate': '7',\n",
       "   'y-coordinate': '12',\n",
       "   'Duration (seconds)': '12.42',\n",
       "   'Class': 'F'},\n",
       "  'Glimpse_5': {'x-coordinate': '6',\n",
       "   'y-coordinate': '14',\n",
       "   'Duration (seconds)': '7.292',\n",
       "   'Class': 'F'},\n",
       "  'Glimpse_6': {'x-coordinate': '15',\n",
       "   'y-coordinate': '16',\n",
       "   'Duration (seconds)': '6.98099999999999',\n",
       "   'Class': 'D'},\n",
       "  'Glimpse_7': {'x-coordinate': '11',\n",
       "   'y-coordinate': '18',\n",
       "   'Duration (seconds)': '9.71999999999999',\n",
       "   'Class': 'D'},\n",
       "  'Glimpse_8': {'x-coordinate': '7',\n",
       "   'y-coordinate': '18',\n",
       "   'Duration (seconds)': '7.376',\n",
       "   'Class': 'D'},\n",
       "  'Glimpse_9': {'x-coordinate': '14',\n",
       "   'y-coordinate': '11',\n",
       "   'Duration (seconds)': '7.259',\n",
       "   'Class': 'D'},\n",
       "  'Glimpse_10': {'x-coordinate': '15',\n",
       "   'y-coordinate': '20',\n",
       "   'Duration (seconds)': '6.18299999999999',\n",
       "   'Class': 'D'},\n",
       "  'Glimpse_11': {'x-coordinate': '5',\n",
       "   'y-coordinate': '11',\n",
       "   'Duration (seconds)': '7.557',\n",
       "   'Class': 'D'},\n",
       "  'Glimpse_12': {'x-coordinate': '19',\n",
       "   'y-coordinate': '9',\n",
       "   'Duration (seconds)': '5.097',\n",
       "   'Class': 'D'}}}"
      ]
     },
     "execution_count": 11,
     "metadata": {},
     "output_type": "execute_result"
    }
   ],
   "source": [
    "data[sample]"
   ]
  },
  {
   "cell_type": "code",
   "execution_count": 12,
   "id": "4f431660",
   "metadata": {},
   "outputs": [
    {
     "name": "stdout",
     "output_type": "stream",
     "text": [
      "Co_ordinates of the 12 samplings for stimuli 03_51250:\n",
      " [('12', '14'), ('17', '12'), ('10', '13'), ('7', '12'), ('6', '14'), ('15', '16'), ('11', '18'), ('7', '18'), ('14', '11'), ('15', '20'), ('5', '11'), ('19', '9')] \n",
      "\n",
      "Duration between consecutive samplings:\n",
      " ['27.281', '9.445', '12.42', '7.292', '6.98099999999999', '9.71999999999999', '7.376', '7.259', '6.18299999999999', '7.557', '5.097'] \n",
      "\n",
      "Predicted class for the 12 samplings:\n",
      " ['L', 'F', 'F', 'F', 'F', 'D', 'D', 'D', 'D', 'D', 'D', 'D'] \n",
      "\n",
      "True label:  D\n"
     ]
    }
   ],
   "source": [
    "### coordinates of the samplings (x, y) over 12 samplings\n",
    "\n",
    "x_axis = [data[sample]['Data']['Glimpse_'+str(i+1)]['x-coordinate'] for i in range(12)]\n",
    "\n",
    "y_axis = [data[sample]['Data']['Glimpse_'+str(i+1)]['y-coordinate'] for i in range(12)]\n",
    "\n",
    "print('Co_ordinates of the 12 samplings for stimuli '+ stimuli + ':\\n', [(x, y) for x,y in zip(x_axis, y_axis)], '\\n')\n",
    "\n",
    "### duration \n",
    "t = [data[sample]['Data']['Glimpse_'+str(i+1)]['Duration (seconds)'] for i in range(12)]\n",
    "print('Duration between consecutive samplings:\\n', t[1::], '\\n')\n",
    "\n",
    "### predicted class\n",
    "y = [data[sample]['Data']['Glimpse_'+str(i+1)]['Class'] for i in range(12)]\n",
    "print('Predicted class for the 12 samplings:\\n', y, '\\n')\n",
    "\n",
    "### true label\n",
    "print('True label: ', data[sample]['Label'])"
   ]
  },
  {
   "cell_type": "markdown",
   "id": "4d5f5928",
   "metadata": {},
   "source": [
    "### EMNIST Lowercase"
   ]
  },
  {
   "cell_type": "code",
   "execution_count": 13,
   "id": "7d186fe1",
   "metadata": {},
   "outputs": [],
   "source": [
    "dataset = 'EMNIST_LOWERCASE'\n",
    "# Opening JSON file\n",
    "f = open('./Data/emnist_lowercase.json')\n",
    "  \n",
    "# returns JSON object as \n",
    "# a dictionary\n",
    "data = json.load(f)"
   ]
  },
  {
   "cell_type": "code",
   "execution_count": 14,
   "id": "921d824a",
   "metadata": {},
   "outputs": [
    {
     "name": "stdout",
     "output_type": "stream",
     "text": [
      "4315\n"
     ]
    }
   ],
   "source": [
    "total_samples = len(data)\n",
    "print(total_samples)"
   ]
  },
  {
   "cell_type": "code",
   "execution_count": 15,
   "id": "dee0f796",
   "metadata": {},
   "outputs": [],
   "source": [
    "\n",
    "### select a sample in the range [0, total_samples-1] \n",
    "sample = 3"
   ]
  },
  {
   "cell_type": "code",
   "execution_count": 16,
   "id": "0c7e32cd",
   "metadata": {},
   "outputs": [
    {
     "data": {
      "image/png": "[encoded data removed]",
      "text/plain": [
       "<Figure size 432x288 with 1 Axes>"
      ]
     },
     "metadata": {
      "needs_background": "light"
     },
     "output_type": "display_data"
    }
   ],
   "source": [
    "stimuli = data[sample]['Stimuli']\n",
    "\n",
    "path_to_stimuli = './Stimuli/'+dataset\n",
    "\n",
    "\n",
    "import matplotlib.pyplot as plt\n",
    "import matplotlib.image as mpimg\n",
    "img = mpimg.imread(path_to_stimuli+'/'+stimuli+'.jpeg')\n",
    "imgplot = plt.imshow(img)\n",
    "plt.show()\n",
    "\n"
   ]
  },
  {
   "cell_type": "code",
   "execution_count": 17,
   "id": "63452768",
   "metadata": {},
   "outputs": [
    {
     "data": {
      "text/plain": [
       "{'Stimuli': '02_142140',\n",
       " 'Label': 'v',\n",
       " 'Data': {'Glimpse_1': {'x-coordinate': '12',\n",
       "   'y-coordinate': '14',\n",
       "   'Duration (seconds)': '',\n",
       "   'Class': 'i'},\n",
       "  'Glimpse_2': {'x-coordinate': '17',\n",
       "   'y-coordinate': '17',\n",
       "   'Duration (seconds)': '88.789',\n",
       "   'Class': 'y'},\n",
       "  'Glimpse_3': {'x-coordinate': '17',\n",
       "   'y-coordinate': '12',\n",
       "   'Duration (seconds)': '3.016',\n",
       "   'Class': 'q'},\n",
       "  'Glimpse_4': {'x-coordinate': '7',\n",
       "   'y-coordinate': '11',\n",
       "   'Duration (seconds)': '4.89199999999999',\n",
       "   'Class': 'e'},\n",
       "  'Glimpse_5': {'x-coordinate': '8',\n",
       "   'y-coordinate': '19',\n",
       "   'Duration (seconds)': '6.045',\n",
       "   'Class': 'g'},\n",
       "  'Glimpse_6': {'x-coordinate': '2',\n",
       "   'y-coordinate': '16',\n",
       "   'Duration (seconds)': '2.896',\n",
       "   'Class': 'g'},\n",
       "  'Glimpse_7': {'x-coordinate': '19',\n",
       "   'y-coordinate': '2',\n",
       "   'Duration (seconds)': '77.855',\n",
       "   'Class': 'y'},\n",
       "  'Glimpse_8': {'x-coordinate': '15',\n",
       "   'y-coordinate': '8',\n",
       "   'Duration (seconds)': '5.752',\n",
       "   'Class': 'v'},\n",
       "  'Glimpse_9': {'x-coordinate': '10',\n",
       "   'y-coordinate': '7',\n",
       "   'Duration (seconds)': '4.18999999999999',\n",
       "   'Class': 'v'},\n",
       "  'Glimpse_10': {'x-coordinate': '6',\n",
       "   'y-coordinate': '7',\n",
       "   'Duration (seconds)': '2.33299999999999',\n",
       "   'Class': 'v'},\n",
       "  'Glimpse_11': {'x-coordinate': '4',\n",
       "   'y-coordinate': '21',\n",
       "   'Duration (seconds)': '2.16899999999998',\n",
       "   'Class': 'v'},\n",
       "  'Glimpse_12': {'x-coordinate': '21',\n",
       "   'y-coordinate': '13',\n",
       "   'Duration (seconds)': '2.30800000000002',\n",
       "   'Class': 'v'}}}"
      ]
     },
     "execution_count": 17,
     "metadata": {},
     "output_type": "execute_result"
    }
   ],
   "source": [
    "data[sample]"
   ]
  },
  {
   "cell_type": "code",
   "execution_count": 18,
   "id": "21af87ff",
   "metadata": {},
   "outputs": [
    {
     "name": "stdout",
     "output_type": "stream",
     "text": [
      "Co_ordinates of the 12 samplings for stimuli 02_142140:\n",
      " [('12', '14'), ('17', '17'), ('17', '12'), ('7', '11'), ('8', '19'), ('2', '16'), ('19', '2'), ('15', '8'), ('10', '7'), ('6', '7'), ('4', '21'), ('21', '13')] \n",
      "\n",
      "Duration between consecutive samplings:\n",
      " ['88.789', '3.016', '4.89199999999999', '6.045', '2.896', '77.855', '5.752', '4.18999999999999', '2.33299999999999', '2.16899999999998', '2.30800000000002'] \n",
      "\n",
      "Predicted class for the 12 samplings:\n",
      " ['i', 'y', 'q', 'e', 'g', 'g', 'y', 'v', 'v', 'v', 'v', 'v'] \n",
      "\n",
      "True label:  v\n"
     ]
    }
   ],
   "source": [
    "### coordinates of the samplings (x, y) over 12 samplings\n",
    "\n",
    "x_axis = [data[sample]['Data']['Glimpse_'+str(i+1)]['x-coordinate'] for i in range(12)]\n",
    "\n",
    "y_axis = [data[sample]['Data']['Glimpse_'+str(i+1)]['y-coordinate'] for i in range(12)]\n",
    "\n",
    "print('Co_ordinates of the 12 samplings for stimuli '+ stimuli + ':\\n', [(x, y) for x,y in zip(x_axis, y_axis)], '\\n')\n",
    "\n",
    "### duration \n",
    "t = [data[sample]['Data']['Glimpse_'+str(i+1)]['Duration (seconds)'] for i in range(12)]\n",
    "print('Duration between consecutive samplings:\\n', t[1::], '\\n')\n",
    "\n",
    "### predicted class\n",
    "y = [data[sample]['Data']['Glimpse_'+str(i+1)]['Class'] for i in range(12)]\n",
    "print('Predicted class for the 12 samplings:\\n', y, '\\n')\n",
    "\n",
    "### true label\n",
    "print('True label: ', data[sample]['Label'])"
   ]
  },
  {
   "cell_type": "code",
   "execution_count": null,
   "id": "3182869e",
   "metadata": {},
   "outputs": [],
   "source": []
  }
 ],
 "metadata": {
  "kernelspec": {
   "display_name": "Python 3 (ipykernel)",
   "language": "python",
   "name": "python3"
  },
  "language_info": {
   "codemirror_mode": {
    "name": "ipython",
    "version": 3
   },
   "file_extension": ".py",
   "mimetype": "text/x-python",
   "name": "python",
   "nbconvert_exporter": "python",
   "pygments_lexer": "ipython3",
   "version": "3.8.10"
  }
 },
 "nbformat": 4,
 "nbformat_minor": 5
}
